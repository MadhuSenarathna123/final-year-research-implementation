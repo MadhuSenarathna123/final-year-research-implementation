{
 "cells": [
  {
   "cell_type": "code",
   "execution_count": 1,
   "id": "f23cb279",
   "metadata": {},
   "outputs": [
    {
     "name": "stdout",
     "output_type": "stream",
     "text": [
      "Collecting numpy\n",
      "  Using cached numpy-1.23.3-cp39-cp39-win_amd64.whl (14.7 MB)\n",
      "Installing collected packages: numpy\n",
      "Successfully installed numpy-1.23.3\n",
      "Collecting pandas\n",
      "  Using cached pandas-1.5.0-cp39-cp39-win_amd64.whl (10.9 MB)\n",
      "Requirement already satisfied: python-dateutil>=2.8.1 in c:\\users\\user\\desktop\\prediction\\model\\env\\lib\\site-packages (from pandas) (2.8.2)\n",
      "Requirement already satisfied: numpy>=1.20.3 in c:\\users\\user\\desktop\\prediction\\model\\env\\lib\\site-packages (from pandas) (1.23.3)\n",
      "Collecting pytz>=2020.1\n",
      "  Using cached pytz-2022.4-py2.py3-none-any.whl (500 kB)\n",
      "Requirement already satisfied: six>=1.5 in c:\\users\\user\\desktop\\prediction\\model\\env\\lib\\site-packages (from python-dateutil>=2.8.1->pandas) (1.16.0)\n",
      "Installing collected packages: pytz, pandas\n",
      "Successfully installed pandas-1.5.0 pytz-2022.4\n"
     ]
    }
   ],
   "source": [
    "!pip install numpy\n",
    "!pip install pandas"
   ]
  },
  {
   "cell_type": "code",
   "execution_count": 2,
   "id": "11bd5e28",
   "metadata": {},
   "outputs": [],
   "source": [
    "import numpy as np\n",
    "import pandas as pd"
   ]
  },
  {
   "cell_type": "code",
   "execution_count": 5,
   "id": "1b9d7d93",
   "metadata": {},
   "outputs": [
    {
     "data": {
      "text/html": [
       "<div>\n",
       "<style scoped>\n",
       "    .dataframe tbody tr th:only-of-type {\n",
       "        vertical-align: middle;\n",
       "    }\n",
       "\n",
       "    .dataframe tbody tr th {\n",
       "        vertical-align: top;\n",
       "    }\n",
       "\n",
       "    .dataframe thead th {\n",
       "        text-align: right;\n",
       "    }\n",
       "</style>\n",
       "<table border=\"1\" class=\"dataframe\">\n",
       "  <thead>\n",
       "    <tr style=\"text-align: right;\">\n",
       "      <th></th>\n",
       "      <th>id</th>\n",
       "      <th>Your Department (Select the answer)</th>\n",
       "      <th>Your Gender</th>\n",
       "      <th>Your Academic Year</th>\n",
       "      <th>What is your preferred education method for learning?</th>\n",
       "      <th>1</th>\n",
       "      <th>one</th>\n",
       "      <th>2</th>\n",
       "      <th>two</th>\n",
       "      <th>3</th>\n",
       "      <th>...</th>\n",
       "      <th>8</th>\n",
       "      <th>eight</th>\n",
       "      <th>9</th>\n",
       "      <th>nine</th>\n",
       "      <th>10</th>\n",
       "      <th>ten</th>\n",
       "      <th>What did you mostly experience during online education?</th>\n",
       "      <th>What did you feel?</th>\n",
       "      <th>Mark</th>\n",
       "      <th>predict</th>\n",
       "    </tr>\n",
       "  </thead>\n",
       "  <tbody>\n",
       "    <tr>\n",
       "      <th>0</th>\n",
       "      <td>1</td>\n",
       "      <td>Department of Criminology and Criminal Justice</td>\n",
       "      <td>Male</td>\n",
       "      <td>4th year</td>\n",
       "      <td>Physical</td>\n",
       "      <td>Fairly Often</td>\n",
       "      <td>3</td>\n",
       "      <td>Sometimes</td>\n",
       "      <td>2</td>\n",
       "      <td>Very Often</td>\n",
       "      <td>...</td>\n",
       "      <td>Almost Never</td>\n",
       "      <td>3</td>\n",
       "      <td>Sometimes</td>\n",
       "      <td>2</td>\n",
       "      <td>Sometimes</td>\n",
       "      <td>2</td>\n",
       "      <td>Headache, Neck And Shoulder Pain, Back Pain, U...</td>\n",
       "      <td>Cannot Focus, Get Angry Easily, Very Tired</td>\n",
       "      <td>22</td>\n",
       "      <td>Moderate</td>\n",
       "    </tr>\n",
       "    <tr>\n",
       "      <th>1</th>\n",
       "      <td>2</td>\n",
       "      <td>Department of Information and Communication Te...</td>\n",
       "      <td>Female</td>\n",
       "      <td>4th year</td>\n",
       "      <td>Physical</td>\n",
       "      <td>Sometimes</td>\n",
       "      <td>2</td>\n",
       "      <td>Fairly Often</td>\n",
       "      <td>3</td>\n",
       "      <td>Very Often</td>\n",
       "      <td>...</td>\n",
       "      <td>Sometimes</td>\n",
       "      <td>2</td>\n",
       "      <td>Sometimes</td>\n",
       "      <td>2</td>\n",
       "      <td>Never</td>\n",
       "      <td>0</td>\n",
       "      <td>Headache, Neck And Shoulder Pain</td>\n",
       "      <td>Worry</td>\n",
       "      <td>25</td>\n",
       "      <td>High</td>\n",
       "    </tr>\n",
       "    <tr>\n",
       "      <th>2</th>\n",
       "      <td>3</td>\n",
       "      <td>Department of Philosophy and Psychology</td>\n",
       "      <td>Female</td>\n",
       "      <td>4th year</td>\n",
       "      <td>Physical</td>\n",
       "      <td>Sometimes</td>\n",
       "      <td>2</td>\n",
       "      <td>Sometimes</td>\n",
       "      <td>2</td>\n",
       "      <td>Sometimes</td>\n",
       "      <td>...</td>\n",
       "      <td>Sometimes</td>\n",
       "      <td>2</td>\n",
       "      <td>Sometimes</td>\n",
       "      <td>2</td>\n",
       "      <td>Sometimes</td>\n",
       "      <td>2</td>\n",
       "      <td>Neck And Shoulder Pain</td>\n",
       "      <td>Cannot Focus</td>\n",
       "      <td>19</td>\n",
       "      <td>Moderate</td>\n",
       "    </tr>\n",
       "    <tr>\n",
       "      <th>3</th>\n",
       "      <td>4</td>\n",
       "      <td>Department of Philosophy and Psychology</td>\n",
       "      <td>Female</td>\n",
       "      <td>4th year</td>\n",
       "      <td>Physical</td>\n",
       "      <td>Sometimes</td>\n",
       "      <td>2</td>\n",
       "      <td>Sometimes</td>\n",
       "      <td>2</td>\n",
       "      <td>Sometimes</td>\n",
       "      <td>...</td>\n",
       "      <td>Never</td>\n",
       "      <td>4</td>\n",
       "      <td>Almost Never</td>\n",
       "      <td>1</td>\n",
       "      <td>Sometimes</td>\n",
       "      <td>2</td>\n",
       "      <td>Headache</td>\n",
       "      <td>Very Tired</td>\n",
       "      <td>22</td>\n",
       "      <td>Moderate</td>\n",
       "    </tr>\n",
       "    <tr>\n",
       "      <th>4</th>\n",
       "      <td>5</td>\n",
       "      <td>Department of Information and Communication Te...</td>\n",
       "      <td>Female</td>\n",
       "      <td>3rd year</td>\n",
       "      <td>Virtual base(online)</td>\n",
       "      <td>Sometimes</td>\n",
       "      <td>2</td>\n",
       "      <td>Sometimes</td>\n",
       "      <td>2</td>\n",
       "      <td>Sometimes</td>\n",
       "      <td>...</td>\n",
       "      <td>Sometimes</td>\n",
       "      <td>2</td>\n",
       "      <td>Sometimes</td>\n",
       "      <td>2</td>\n",
       "      <td>Sometimes</td>\n",
       "      <td>2</td>\n",
       "      <td>Headache, Back Pain, Not Feeling Hungry</td>\n",
       "      <td>Cannot Focus, Get Angry Easily, Worry, Very Ti...</td>\n",
       "      <td>19</td>\n",
       "      <td>Moderate</td>\n",
       "    </tr>\n",
       "  </tbody>\n",
       "</table>\n",
       "<p>5 rows × 29 columns</p>\n",
       "</div>"
      ],
      "text/plain": [
       "   id                Your Department (Select the answer) Your Gender  \\\n",
       "0   1     Department of Criminology and Criminal Justice        Male   \n",
       "1   2  Department of Information and Communication Te...      Female   \n",
       "2   3            Department of Philosophy and Psychology      Female   \n",
       "3   4            Department of Philosophy and Psychology      Female   \n",
       "4   5  Department of Information and Communication Te...      Female   \n",
       "\n",
       "  Your Academic Year What is your preferred education method for learning?  \\\n",
       "0           4th year                                           Physical      \n",
       "1           4th year                                           Physical      \n",
       "2           4th year                                           Physical      \n",
       "3           4th year                                           Physical      \n",
       "4           3rd year                               Virtual base(online)      \n",
       "\n",
       "              1  one             2  two           3  ...             8 eight  \\\n",
       "0  Fairly Often    3     Sometimes    2  Very Often  ...  Almost Never     3   \n",
       "1     Sometimes    2  Fairly Often    3  Very Often  ...     Sometimes     2   \n",
       "2     Sometimes    2     Sometimes    2   Sometimes  ...     Sometimes     2   \n",
       "3     Sometimes    2     Sometimes    2   Sometimes  ...         Never     4   \n",
       "4     Sometimes    2     Sometimes    2   Sometimes  ...     Sometimes     2   \n",
       "\n",
       "              9 nine         10 ten  \\\n",
       "0     Sometimes    2  Sometimes   2   \n",
       "1     Sometimes    2      Never   0   \n",
       "2     Sometimes    2  Sometimes   2   \n",
       "3  Almost Never    1  Sometimes   2   \n",
       "4     Sometimes    2  Sometimes   2   \n",
       "\n",
       "   What did you mostly experience during online education?  \\\n",
       "0  Headache, Neck And Shoulder Pain, Back Pain, U...         \n",
       "1                   Headache, Neck And Shoulder Pain         \n",
       "2                             Neck And Shoulder Pain         \n",
       "3                                           Headache         \n",
       "4            Headache, Back Pain, Not Feeling Hungry         \n",
       "\n",
       "                                  What did you feel?  Mark   predict  \n",
       "0         Cannot Focus, Get Angry Easily, Very Tired    22  Moderate  \n",
       "1                                              Worry    25      High  \n",
       "2                                       Cannot Focus    19  Moderate  \n",
       "3                                         Very Tired    22  Moderate  \n",
       "4  Cannot Focus, Get Angry Easily, Worry, Very Ti...    19  Moderate  \n",
       "\n",
       "[5 rows x 29 columns]"
      ]
     },
     "execution_count": 5,
     "metadata": {},
     "output_type": "execute_result"
    }
   ],
   "source": [
    "url = \"https://raw.githubusercontent.com/MadhuSenarathna123/Prevalence-And-Predicting-Factors-Of-Perceived-Stress-Among-University-Students-Using-Machine-Learni/master/stress%20data.csv\"\n",
    "data = pd.read_csv(url, encoding='latin-1')\n",
    "data.head()"
   ]
  },
  {
   "cell_type": "code",
   "execution_count": 6,
   "id": "6ed2b748",
   "metadata": {},
   "outputs": [
    {
     "data": {
      "text/plain": [
       "(183, 29)"
      ]
     },
     "execution_count": 6,
     "metadata": {},
     "output_type": "execute_result"
    }
   ],
   "source": [
    "data.shape"
   ]
  },
  {
   "cell_type": "code",
   "execution_count": 7,
   "id": "a9ec8616",
   "metadata": {},
   "outputs": [
    {
     "data": {
      "text/plain": [
       "id                                                         0\n",
       "Your Department (Select the answer)                        0\n",
       "Your Gender                                                0\n",
       "Your Academic Year                                         0\n",
       "What is your preferred education method for learning?      0\n",
       "1                                                          0\n",
       "one                                                        0\n",
       "2                                                          0\n",
       "two                                                        0\n",
       "3                                                          0\n",
       "three                                                      0\n",
       "4                                                          0\n",
       "four                                                       0\n",
       "5                                                          0\n",
       "five                                                       0\n",
       "6                                                          0\n",
       "six                                                        0\n",
       "7                                                          0\n",
       "seven                                                      0\n",
       "8                                                          0\n",
       "eight                                                      0\n",
       "9                                                          0\n",
       "nine                                                       0\n",
       "10                                                         0\n",
       "ten                                                        0\n",
       "What did you mostly experience during online education?    0\n",
       "What did you feel?                                         0\n",
       "Mark                                                       0\n",
       "predict                                                    0\n",
       "dtype: int64"
      ]
     },
     "execution_count": 7,
     "metadata": {},
     "output_type": "execute_result"
    }
   ],
   "source": [
    "data.isnull().sum()"
   ]
  },
  {
   "cell_type": "code",
   "execution_count": 8,
   "id": "a8d3b14b",
   "metadata": {},
   "outputs": [
    {
     "data": {
      "text/plain": [
       "<bound method DataFrame.info of       id                Your Department (Select the answer) Your Gender  \\\n",
       "0      1     Department of Criminology and Criminal Justice        Male   \n",
       "1      2  Department of Information and Communication Te...      Female   \n",
       "2      3            Department of Philosophy and Psychology      Female   \n",
       "3      4            Department of Philosophy and Psychology      Female   \n",
       "4      5  Department of Information and Communication Te...      Female   \n",
       "..   ...                                                ...         ...   \n",
       "178  179                    Department of Political Science      Female   \n",
       "179  180              Department of History and Archaeology        Male   \n",
       "180  181       Department of Sinhala and Mass Communication        Male   \n",
       "181  182  Department of Languages, Cultural Studies and ...        Male   \n",
       "182  183            Department of Pali and Buddhist Studies        Male   \n",
       "\n",
       "    Your Academic Year What is your preferred education method for learning?  \\\n",
       "0             4th year                                           Physical      \n",
       "1             4th year                                           Physical      \n",
       "2             4th year                                           Physical      \n",
       "3             4th year                                           Physical      \n",
       "4             3rd year                               Virtual base(online)      \n",
       "..                 ...                                                ...      \n",
       "178           3rd year                                           Physical      \n",
       "179           2nd year                                           Physical      \n",
       "180           2nd year                                           Physical      \n",
       "181           3rd year                                           Physical      \n",
       "182           4th year                                           Physical      \n",
       "\n",
       "                1  one             2  two             3  ...             8  \\\n",
       "0    Fairly Often    3     Sometimes    2    Very Often  ...  Almost Never   \n",
       "1       Sometimes    2  Fairly Often    3    Very Often  ...     Sometimes   \n",
       "2       Sometimes    2     Sometimes    2     Sometimes  ...     Sometimes   \n",
       "3       Sometimes    2     Sometimes    2     Sometimes  ...         Never   \n",
       "4       Sometimes    2     Sometimes    2     Sometimes  ...     Sometimes   \n",
       "..            ...  ...           ...  ...           ...  ...           ...   \n",
       "178         Never    0  Fairly Often    3     Sometimes  ...  Almost Never   \n",
       "179     Sometimes    2  Fairly Often    3    Very Often  ...    Very Often   \n",
       "180  Fairly Often    3  Fairly Often    3  Fairly Often  ...  Almost Never   \n",
       "181  Almost Never    1  Fairly Often    3  Fairly Often  ...  Almost Never   \n",
       "182    Very Often    4  Fairly Often    3  Fairly Often  ...  Almost Never   \n",
       "\n",
       "    eight             9 nine            10 ten  \\\n",
       "0       3     Sometimes    2     Sometimes   2   \n",
       "1       2     Sometimes    2         Never   0   \n",
       "2       2     Sometimes    2     Sometimes   2   \n",
       "3       4  Almost Never    1     Sometimes   2   \n",
       "4       2     Sometimes    2     Sometimes   2   \n",
       "..    ...           ...  ...           ...  ..   \n",
       "178     3  Fairly Often    3  Fairly Often   3   \n",
       "179     0  Fairly Often    3  Almost Never   1   \n",
       "180     3    Very Often    4         Never   0   \n",
       "181     3     Sometimes    2     Sometimes   2   \n",
       "182     3  Almost Never    1  Almost Never   1   \n",
       "\n",
       "     What did you mostly experience during online education?  \\\n",
       "0    Headache, Neck And Shoulder Pain, Back Pain, U...         \n",
       "1                     Headache, Neck And Shoulder Pain         \n",
       "2                               Neck And Shoulder Pain         \n",
       "3                                             Headache         \n",
       "4              Headache, Back Pain, Not Feeling Hungry         \n",
       "..                                                 ...         \n",
       "178                      Back Pain, Lump In the Throat         \n",
       "179  Neck And Shoulder Pain, Upset Stomach, Tight M...         \n",
       "180                             Neck And Shoulder Pain         \n",
       "181                                 Lump In the Throat         \n",
       "182                                 Not Feeling Hungry         \n",
       "\n",
       "                                    What did you feel?  Mark   predict  \n",
       "0           Cannot Focus, Get Angry Easily, Very Tired    22  Moderate  \n",
       "1                                                Worry    25      High  \n",
       "2                                         Cannot Focus    19  Moderate  \n",
       "3                                           Very Tired    22  Moderate  \n",
       "4    Cannot Focus, Get Angry Easily, Worry, Very Ti...    19  Moderate  \n",
       "..                                                 ...   ...       ...  \n",
       "178                    Get Angry Easily, Sad Or Guilty    21  Moderate  \n",
       "179                                      Sad Or Guilty    17  Moderate  \n",
       "180                                              Worry    27      High  \n",
       "181                                         Very Tired    19  Moderate  \n",
       "182                                         Very Tired    20  Moderate  \n",
       "\n",
       "[183 rows x 29 columns]>"
      ]
     },
     "execution_count": 8,
     "metadata": {},
     "output_type": "execute_result"
    }
   ],
   "source": [
    "data.info"
   ]
  },
  {
   "cell_type": "code",
   "execution_count": 9,
   "id": "88d02d21",
   "metadata": {},
   "outputs": [
    {
     "data": {
      "text/plain": [
       "<bound method NDFrame.head of       id                Your Department (Select the answer) Your Gender  \\\n",
       "0      1     Department of Criminology and Criminal Justice        Male   \n",
       "1      2  Department of Information and Communication Te...      Female   \n",
       "2      3            Department of Philosophy and Psychology      Female   \n",
       "3      4            Department of Philosophy and Psychology      Female   \n",
       "4      5  Department of Information and Communication Te...      Female   \n",
       "..   ...                                                ...         ...   \n",
       "178  179                    Department of Political Science      Female   \n",
       "179  180              Department of History and Archaeology        Male   \n",
       "180  181       Department of Sinhala and Mass Communication        Male   \n",
       "181  182  Department of Languages, Cultural Studies and ...        Male   \n",
       "182  183            Department of Pali and Buddhist Studies        Male   \n",
       "\n",
       "    Your Academic Year What is your preferred education method for learning?  \\\n",
       "0             4th year                                           Physical      \n",
       "1             4th year                                           Physical      \n",
       "2             4th year                                           Physical      \n",
       "3             4th year                                           Physical      \n",
       "4             3rd year                               Virtual base(online)      \n",
       "..                 ...                                                ...      \n",
       "178           3rd year                                           Physical      \n",
       "179           2nd year                                           Physical      \n",
       "180           2nd year                                           Physical      \n",
       "181           3rd year                                           Physical      \n",
       "182           4th year                                           Physical      \n",
       "\n",
       "                1  one             2  two             3  ...             8  \\\n",
       "0    Fairly Often    3     Sometimes    2    Very Often  ...  Almost Never   \n",
       "1       Sometimes    2  Fairly Often    3    Very Often  ...     Sometimes   \n",
       "2       Sometimes    2     Sometimes    2     Sometimes  ...     Sometimes   \n",
       "3       Sometimes    2     Sometimes    2     Sometimes  ...         Never   \n",
       "4       Sometimes    2     Sometimes    2     Sometimes  ...     Sometimes   \n",
       "..            ...  ...           ...  ...           ...  ...           ...   \n",
       "178         Never    0  Fairly Often    3     Sometimes  ...  Almost Never   \n",
       "179     Sometimes    2  Fairly Often    3    Very Often  ...    Very Often   \n",
       "180  Fairly Often    3  Fairly Often    3  Fairly Often  ...  Almost Never   \n",
       "181  Almost Never    1  Fairly Often    3  Fairly Often  ...  Almost Never   \n",
       "182    Very Often    4  Fairly Often    3  Fairly Often  ...  Almost Never   \n",
       "\n",
       "    eight             9 nine            10 ten  \\\n",
       "0       3     Sometimes    2     Sometimes   2   \n",
       "1       2     Sometimes    2         Never   0   \n",
       "2       2     Sometimes    2     Sometimes   2   \n",
       "3       4  Almost Never    1     Sometimes   2   \n",
       "4       2     Sometimes    2     Sometimes   2   \n",
       "..    ...           ...  ...           ...  ..   \n",
       "178     3  Fairly Often    3  Fairly Often   3   \n",
       "179     0  Fairly Often    3  Almost Never   1   \n",
       "180     3    Very Often    4         Never   0   \n",
       "181     3     Sometimes    2     Sometimes   2   \n",
       "182     3  Almost Never    1  Almost Never   1   \n",
       "\n",
       "     What did you mostly experience during online education?  \\\n",
       "0    Headache, Neck And Shoulder Pain, Back Pain, U...         \n",
       "1                     Headache, Neck And Shoulder Pain         \n",
       "2                               Neck And Shoulder Pain         \n",
       "3                                             Headache         \n",
       "4              Headache, Back Pain, Not Feeling Hungry         \n",
       "..                                                 ...         \n",
       "178                      Back Pain, Lump In the Throat         \n",
       "179  Neck And Shoulder Pain, Upset Stomach, Tight M...         \n",
       "180                             Neck And Shoulder Pain         \n",
       "181                                 Lump In the Throat         \n",
       "182                                 Not Feeling Hungry         \n",
       "\n",
       "                                    What did you feel?  Mark   predict  \n",
       "0           Cannot Focus, Get Angry Easily, Very Tired    22  Moderate  \n",
       "1                                                Worry    25      High  \n",
       "2                                         Cannot Focus    19  Moderate  \n",
       "3                                           Very Tired    22  Moderate  \n",
       "4    Cannot Focus, Get Angry Easily, Worry, Very Ti...    19  Moderate  \n",
       "..                                                 ...   ...       ...  \n",
       "178                    Get Angry Easily, Sad Or Guilty    21  Moderate  \n",
       "179                                      Sad Or Guilty    17  Moderate  \n",
       "180                                              Worry    27      High  \n",
       "181                                         Very Tired    19  Moderate  \n",
       "182                                         Very Tired    20  Moderate  \n",
       "\n",
       "[183 rows x 29 columns]>"
      ]
     },
     "execution_count": 9,
     "metadata": {},
     "output_type": "execute_result"
    }
   ],
   "source": [
    "data.head\n"
   ]
  },
  {
   "cell_type": "code",
   "execution_count": 10,
   "id": "f00841d6",
   "metadata": {},
   "outputs": [
    {
     "data": {
      "text/html": [
       "<div>\n",
       "<style scoped>\n",
       "    .dataframe tbody tr th:only-of-type {\n",
       "        vertical-align: middle;\n",
       "    }\n",
       "\n",
       "    .dataframe tbody tr th {\n",
       "        vertical-align: top;\n",
       "    }\n",
       "\n",
       "    .dataframe thead th {\n",
       "        text-align: right;\n",
       "    }\n",
       "</style>\n",
       "<table border=\"1\" class=\"dataframe\">\n",
       "  <thead>\n",
       "    <tr style=\"text-align: right;\">\n",
       "      <th></th>\n",
       "      <th>id</th>\n",
       "      <th>Your Department (Select the answer)</th>\n",
       "      <th>Your Gender</th>\n",
       "      <th>Your Academic Year</th>\n",
       "      <th>What is your preferred education method for learning?</th>\n",
       "      <th>1</th>\n",
       "      <th>one</th>\n",
       "      <th>2</th>\n",
       "      <th>two</th>\n",
       "      <th>3</th>\n",
       "      <th>...</th>\n",
       "      <th>8</th>\n",
       "      <th>eight</th>\n",
       "      <th>9</th>\n",
       "      <th>nine</th>\n",
       "      <th>10</th>\n",
       "      <th>ten</th>\n",
       "      <th>What did you mostly experience during online education?</th>\n",
       "      <th>What did you feel?</th>\n",
       "      <th>Mark</th>\n",
       "      <th>predict</th>\n",
       "    </tr>\n",
       "  </thead>\n",
       "  <tbody>\n",
       "    <tr>\n",
       "      <th>0</th>\n",
       "      <td>1</td>\n",
       "      <td>Department of Criminology and Criminal Justice</td>\n",
       "      <td>Male</td>\n",
       "      <td>4th year</td>\n",
       "      <td>Physical</td>\n",
       "      <td>Fairly Often</td>\n",
       "      <td>3</td>\n",
       "      <td>Sometimes</td>\n",
       "      <td>2</td>\n",
       "      <td>Very Often</td>\n",
       "      <td>...</td>\n",
       "      <td>Almost Never</td>\n",
       "      <td>3</td>\n",
       "      <td>Sometimes</td>\n",
       "      <td>2</td>\n",
       "      <td>Sometimes</td>\n",
       "      <td>2</td>\n",
       "      <td>Headache, Neck And Shoulder Pain, Back Pain, U...</td>\n",
       "      <td>Cannot Focus, Get Angry Easily, Very Tired</td>\n",
       "      <td>22</td>\n",
       "      <td>Moderate</td>\n",
       "    </tr>\n",
       "    <tr>\n",
       "      <th>1</th>\n",
       "      <td>2</td>\n",
       "      <td>Department of Information and Communication Te...</td>\n",
       "      <td>Female</td>\n",
       "      <td>4th year</td>\n",
       "      <td>Physical</td>\n",
       "      <td>Sometimes</td>\n",
       "      <td>2</td>\n",
       "      <td>Fairly Often</td>\n",
       "      <td>3</td>\n",
       "      <td>Very Often</td>\n",
       "      <td>...</td>\n",
       "      <td>Sometimes</td>\n",
       "      <td>2</td>\n",
       "      <td>Sometimes</td>\n",
       "      <td>2</td>\n",
       "      <td>Never</td>\n",
       "      <td>0</td>\n",
       "      <td>Headache, Neck And Shoulder Pain</td>\n",
       "      <td>Worry</td>\n",
       "      <td>25</td>\n",
       "      <td>High</td>\n",
       "    </tr>\n",
       "  </tbody>\n",
       "</table>\n",
       "<p>2 rows × 29 columns</p>\n",
       "</div>"
      ],
      "text/plain": [
       "   id                Your Department (Select the answer) Your Gender  \\\n",
       "0   1     Department of Criminology and Criminal Justice        Male   \n",
       "1   2  Department of Information and Communication Te...      Female   \n",
       "\n",
       "  Your Academic Year What is your preferred education method for learning?  \\\n",
       "0           4th year                                           Physical      \n",
       "1           4th year                                           Physical      \n",
       "\n",
       "              1  one             2  two           3  ...             8 eight  \\\n",
       "0  Fairly Often    3     Sometimes    2  Very Often  ...  Almost Never     3   \n",
       "1     Sometimes    2  Fairly Often    3  Very Often  ...     Sometimes     2   \n",
       "\n",
       "           9 nine         10 ten  \\\n",
       "0  Sometimes    2  Sometimes   2   \n",
       "1  Sometimes    2      Never   0   \n",
       "\n",
       "   What did you mostly experience during online education?  \\\n",
       "0  Headache, Neck And Shoulder Pain, Back Pain, U...         \n",
       "1                   Headache, Neck And Shoulder Pain         \n",
       "\n",
       "                           What did you feel?  Mark   predict  \n",
       "0  Cannot Focus, Get Angry Easily, Very Tired    22  Moderate  \n",
       "1                                       Worry    25      High  \n",
       "\n",
       "[2 rows x 29 columns]"
      ]
     },
     "execution_count": 10,
     "metadata": {},
     "output_type": "execute_result"
    }
   ],
   "source": [
    "data.head(2)"
   ]
  },
  {
   "cell_type": "code",
   "execution_count": 11,
   "id": "a5209246",
   "metadata": {},
   "outputs": [],
   "source": [
    "data = data.drop(columns=['id','Your Department (Select the answer)','Your Gender', 'Your Academic Year', 'What is your preferred education method for learning?','1', '2', '3', '4', '5', '6', '7', '8', '9', '10', 'What did you mostly experience during online education?', 'What did you feel?', 'predict'])"
   ]
  },
  {
   "cell_type": "code",
   "execution_count": 12,
   "id": "64c93a95",
   "metadata": {},
   "outputs": [
    {
     "data": {
      "text/html": [
       "<div>\n",
       "<style scoped>\n",
       "    .dataframe tbody tr th:only-of-type {\n",
       "        vertical-align: middle;\n",
       "    }\n",
       "\n",
       "    .dataframe tbody tr th {\n",
       "        vertical-align: top;\n",
       "    }\n",
       "\n",
       "    .dataframe thead th {\n",
       "        text-align: right;\n",
       "    }\n",
       "</style>\n",
       "<table border=\"1\" class=\"dataframe\">\n",
       "  <thead>\n",
       "    <tr style=\"text-align: right;\">\n",
       "      <th></th>\n",
       "      <th>one</th>\n",
       "      <th>two</th>\n",
       "      <th>three</th>\n",
       "      <th>four</th>\n",
       "      <th>five</th>\n",
       "      <th>six</th>\n",
       "      <th>seven</th>\n",
       "      <th>eight</th>\n",
       "      <th>nine</th>\n",
       "      <th>ten</th>\n",
       "      <th>Mark</th>\n",
       "    </tr>\n",
       "  </thead>\n",
       "  <tbody>\n",
       "    <tr>\n",
       "      <th>0</th>\n",
       "      <td>3</td>\n",
       "      <td>2</td>\n",
       "      <td>4</td>\n",
       "      <td>1</td>\n",
       "      <td>2</td>\n",
       "      <td>2</td>\n",
       "      <td>1</td>\n",
       "      <td>3</td>\n",
       "      <td>2</td>\n",
       "      <td>2</td>\n",
       "      <td>22</td>\n",
       "    </tr>\n",
       "    <tr>\n",
       "      <th>1</th>\n",
       "      <td>2</td>\n",
       "      <td>3</td>\n",
       "      <td>4</td>\n",
       "      <td>3</td>\n",
       "      <td>2</td>\n",
       "      <td>3</td>\n",
       "      <td>4</td>\n",
       "      <td>2</td>\n",
       "      <td>2</td>\n",
       "      <td>0</td>\n",
       "      <td>25</td>\n",
       "    </tr>\n",
       "  </tbody>\n",
       "</table>\n",
       "</div>"
      ],
      "text/plain": [
       "   one  two  three  four  five  six  seven  eight  nine  ten  Mark\n",
       "0    3    2      4     1     2    2      1      3     2    2    22\n",
       "1    2    3      4     3     2    3      4      2     2    0    25"
      ]
     },
     "execution_count": 12,
     "metadata": {},
     "output_type": "execute_result"
    }
   ],
   "source": [
    "data.head(2)"
   ]
  },
  {
   "cell_type": "code",
   "execution_count": 13,
   "id": "434ba531",
   "metadata": {},
   "outputs": [
    {
     "data": {
      "text/plain": [
       "(183, 11)"
      ]
     },
     "execution_count": 13,
     "metadata": {},
     "output_type": "execute_result"
    }
   ],
   "source": [
    "data.shape"
   ]
  },
  {
   "cell_type": "code",
   "execution_count": 14,
   "id": "9c6cb9f6",
   "metadata": {},
   "outputs": [],
   "source": [
    "data = pd.get_dummies(data)"
   ]
  },
  {
   "cell_type": "code",
   "execution_count": 15,
   "id": "cc0f53f3",
   "metadata": {},
   "outputs": [
    {
     "data": {
      "text/plain": [
       "(183, 11)"
      ]
     },
     "execution_count": 15,
     "metadata": {},
     "output_type": "execute_result"
    }
   ],
   "source": [
    "data.shape"
   ]
  },
  {
   "cell_type": "code",
   "execution_count": 16,
   "id": "6bb510ed",
   "metadata": {},
   "outputs": [],
   "source": [
    "x = data.drop('Mark', axis=1)\n",
    "y = data['Mark']"
   ]
  },
  {
   "cell_type": "code",
   "execution_count": 20,
   "id": "27b60e2f",
   "metadata": {},
   "outputs": [
    {
     "name": "stdout",
     "output_type": "stream",
     "text": [
      "Requirement already satisfied: sklearn in c:\\users\\user\\desktop\\prediction\\model\\env\\lib\\site-packages (0.0)\n",
      "Requirement already satisfied: scikit-learn in c:\\users\\user\\desktop\\prediction\\model\\env\\lib\\site-packages (from sklearn) (1.1.2)\n",
      "Requirement already satisfied: threadpoolctl>=2.0.0 in c:\\users\\user\\desktop\\prediction\\model\\env\\lib\\site-packages (from scikit-learn->sklearn) (3.1.0)\n",
      "Requirement already satisfied: scipy>=1.3.2 in c:\\users\\user\\desktop\\prediction\\model\\env\\lib\\site-packages (from scikit-learn->sklearn) (1.9.2)\n",
      "Requirement already satisfied: joblib>=1.0.0 in c:\\users\\user\\desktop\\prediction\\model\\env\\lib\\site-packages (from scikit-learn->sklearn) (1.2.0)\n",
      "Requirement already satisfied: numpy>=1.17.3 in c:\\users\\user\\desktop\\prediction\\model\\env\\lib\\site-packages (from scikit-learn->sklearn) (1.23.3)\n"
     ]
    }
   ],
   "source": [
    "!pip install sklearn"
   ]
  },
  {
   "cell_type": "code",
   "execution_count": 21,
   "id": "cbf5cadc",
   "metadata": {},
   "outputs": [],
   "source": [
    "from sklearn.model_selection import train_test_split\n",
    "x_train, x_test, y_train, y_test = train_test_split(x, y, test_size=0.25)"
   ]
  },
  {
   "cell_type": "code",
   "execution_count": 22,
   "id": "bfbaa50b",
   "metadata": {},
   "outputs": [
    {
     "data": {
      "text/plain": [
       "((137, 10), (46, 10))"
      ]
     },
     "execution_count": 22,
     "metadata": {},
     "output_type": "execute_result"
    }
   ],
   "source": [
    "x_train.shape, x_test.shape"
   ]
  },
  {
   "cell_type": "code",
   "execution_count": 23,
   "id": "88700488",
   "metadata": {},
   "outputs": [],
   "source": [
    "def model_acc(model):\n",
    "    model.fit(x_train, y_train)\n",
    "    acc = model.score(x_test, y_test)\n",
    "    print(str(model)+ ' --> ' +str(acc))"
   ]
  },
  {
   "cell_type": "code",
   "execution_count": 24,
   "id": "f1e7df15",
   "metadata": {},
   "outputs": [
    {
     "name": "stdout",
     "output_type": "stream",
     "text": [
      "LinearRegression() --> 1.0\n",
      "Lasso() --> 0.7486622428226818\n",
      "DecisionTreeRegressor() --> 0.4804109414061788\n",
      "RandomForestRegressor() --> 0.8330316089122461\n"
     ]
    }
   ],
   "source": [
    "from sklearn.linear_model import LinearRegression\n",
    "lr = LinearRegression()\n",
    "model_acc(lr)\n",
    "\n",
    "from sklearn.linear_model import Lasso\n",
    "lasso = Lasso()\n",
    "model_acc(lasso)\n",
    "\n",
    "from sklearn.tree import DecisionTreeRegressor\n",
    "dt = DecisionTreeRegressor()\n",
    "model_acc(dt)\n",
    "\n",
    "from sklearn.ensemble import RandomForestRegressor\n",
    "rf = RandomForestRegressor()\n",
    "model_acc(rf)"
   ]
  },
  {
   "cell_type": "code",
   "execution_count": 26,
   "id": "aac3d907",
   "metadata": {},
   "outputs": [
    {
     "data": {
      "text/html": [
       "<style>#sk-container-id-2 {color: black;background-color: white;}#sk-container-id-2 pre{padding: 0;}#sk-container-id-2 div.sk-toggleable {background-color: white;}#sk-container-id-2 label.sk-toggleable__label {cursor: pointer;display: block;width: 100%;margin-bottom: 0;padding: 0.3em;box-sizing: border-box;text-align: center;}#sk-container-id-2 label.sk-toggleable__label-arrow:before {content: \"▸\";float: left;margin-right: 0.25em;color: #696969;}#sk-container-id-2 label.sk-toggleable__label-arrow:hover:before {color: black;}#sk-container-id-2 div.sk-estimator:hover label.sk-toggleable__label-arrow:before {color: black;}#sk-container-id-2 div.sk-toggleable__content {max-height: 0;max-width: 0;overflow: hidden;text-align: left;background-color: #f0f8ff;}#sk-container-id-2 div.sk-toggleable__content pre {margin: 0.2em;color: black;border-radius: 0.25em;background-color: #f0f8ff;}#sk-container-id-2 input.sk-toggleable__control:checked~div.sk-toggleable__content {max-height: 200px;max-width: 100%;overflow: auto;}#sk-container-id-2 input.sk-toggleable__control:checked~label.sk-toggleable__label-arrow:before {content: \"▾\";}#sk-container-id-2 div.sk-estimator input.sk-toggleable__control:checked~label.sk-toggleable__label {background-color: #d4ebff;}#sk-container-id-2 div.sk-label input.sk-toggleable__control:checked~label.sk-toggleable__label {background-color: #d4ebff;}#sk-container-id-2 input.sk-hidden--visually {border: 0;clip: rect(1px 1px 1px 1px);clip: rect(1px, 1px, 1px, 1px);height: 1px;margin: -1px;overflow: hidden;padding: 0;position: absolute;width: 1px;}#sk-container-id-2 div.sk-estimator {font-family: monospace;background-color: #f0f8ff;border: 1px dotted black;border-radius: 0.25em;box-sizing: border-box;margin-bottom: 0.5em;}#sk-container-id-2 div.sk-estimator:hover {background-color: #d4ebff;}#sk-container-id-2 div.sk-parallel-item::after {content: \"\";width: 100%;border-bottom: 1px solid gray;flex-grow: 1;}#sk-container-id-2 div.sk-label:hover label.sk-toggleable__label {background-color: #d4ebff;}#sk-container-id-2 div.sk-serial::before {content: \"\";position: absolute;border-left: 1px solid gray;box-sizing: border-box;top: 0;bottom: 0;left: 50%;z-index: 0;}#sk-container-id-2 div.sk-serial {display: flex;flex-direction: column;align-items: center;background-color: white;padding-right: 0.2em;padding-left: 0.2em;position: relative;}#sk-container-id-2 div.sk-item {position: relative;z-index: 1;}#sk-container-id-2 div.sk-parallel {display: flex;align-items: stretch;justify-content: center;background-color: white;position: relative;}#sk-container-id-2 div.sk-item::before, #sk-container-id-2 div.sk-parallel-item::before {content: \"\";position: absolute;border-left: 1px solid gray;box-sizing: border-box;top: 0;bottom: 0;left: 50%;z-index: -1;}#sk-container-id-2 div.sk-parallel-item {display: flex;flex-direction: column;z-index: 1;position: relative;background-color: white;}#sk-container-id-2 div.sk-parallel-item:first-child::after {align-self: flex-end;width: 50%;}#sk-container-id-2 div.sk-parallel-item:last-child::after {align-self: flex-start;width: 50%;}#sk-container-id-2 div.sk-parallel-item:only-child::after {width: 0;}#sk-container-id-2 div.sk-dashed-wrapped {border: 1px dashed gray;margin: 0 0.4em 0.5em 0.4em;box-sizing: border-box;padding-bottom: 0.4em;background-color: white;}#sk-container-id-2 div.sk-label label {font-family: monospace;font-weight: bold;display: inline-block;line-height: 1.2em;}#sk-container-id-2 div.sk-label-container {text-align: center;}#sk-container-id-2 div.sk-container {/* jupyter's `normalize.less` sets `[hidden] { display: none; }` but bootstrap.min.css set `[hidden] { display: none !important; }` so we also need the `!important` here to be able to override the default hidden behavior on the sphinx rendered scikit-learn.org. See: https://github.com/scikit-learn/scikit-learn/issues/21755 */display: inline-block !important;position: relative;}#sk-container-id-2 div.sk-text-repr-fallback {display: none;}</style><div id=\"sk-container-id-2\" class=\"sk-top-container\"><div class=\"sk-text-repr-fallback\"><pre>RandomForestRegressor(n_estimators=50)</pre><b>In a Jupyter environment, please rerun this cell to show the HTML representation or trust the notebook. <br />On GitHub, the HTML representation is unable to render, please try loading this page with nbviewer.org.</b></div><div class=\"sk-container\" hidden><div class=\"sk-item\"><div class=\"sk-estimator sk-toggleable\"><input class=\"sk-toggleable__control sk-hidden--visually\" id=\"sk-estimator-id-2\" type=\"checkbox\" checked><label for=\"sk-estimator-id-2\" class=\"sk-toggleable__label sk-toggleable__label-arrow\">RandomForestRegressor</label><div class=\"sk-toggleable__content\"><pre>RandomForestRegressor(n_estimators=50)</pre></div></div></div></div></div>"
      ],
      "text/plain": [
       "RandomForestRegressor(n_estimators=50)"
      ]
     },
     "execution_count": 26,
     "metadata": {},
     "output_type": "execute_result"
    }
   ],
   "source": [
    "from sklearn.model_selection import GridSearchCV\n",
    "\n",
    "parameters = {'n_estimators' :[10, 50, 100],\n",
    "             'criterion' :['squared_error', 'absolute_error', 'poisson']}\n",
    "\n",
    "grid_obj = GridSearchCV(estimator=rf, param_grid=parameters)\n",
    "\n",
    "grid_fit = grid_obj.fit(x_train, y_train)\n",
    "\n",
    "best_model = grid_fit.best_estimator_\n",
    "best_model"
   ]
  },
  {
   "cell_type": "code",
   "execution_count": 28,
   "id": "f871d5bc",
   "metadata": {},
   "outputs": [
    {
     "data": {
      "text/plain": [
       "0.8156978157332896"
      ]
     },
     "execution_count": 28,
     "metadata": {},
     "output_type": "execute_result"
    }
   ],
   "source": [
    "best_model.score(x_test, y_test)"
   ]
  },
  {
   "cell_type": "code",
   "execution_count": 29,
   "id": "1d2d5e1d",
   "metadata": {},
   "outputs": [],
   "source": [
    "import pickle\n",
    "with open('predictor.pickle', 'wb') as file:\n",
    "    pickle.dump(best_model, file)"
   ]
  },
  {
   "cell_type": "code",
   "execution_count": 30,
   "id": "60f26923",
   "metadata": {},
   "outputs": [
    {
     "data": {
      "text/plain": [
       "Index(['one', 'two', 'three', 'four', 'five', 'six', 'seven', 'eight', 'nine',\n",
       "       'ten'],\n",
       "      dtype='object')"
      ]
     },
     "execution_count": 30,
     "metadata": {},
     "output_type": "execute_result"
    }
   ],
   "source": [
    "x_train.columns"
   ]
  },
  {
   "cell_type": "code",
   "execution_count": 31,
   "id": "04a8b1f8",
   "metadata": {},
   "outputs": [
    {
     "name": "stderr",
     "output_type": "stream",
     "text": [
      "C:\\Users\\User\\Desktop\\prediction\\model\\env\\lib\\site-packages\\sklearn\\base.py:450: UserWarning: X does not have valid feature names, but RandomForestRegressor was fitted with feature names\n",
      "  warnings.warn(\n"
     ]
    },
    {
     "data": {
      "text/plain": [
       "array([20.82])"
      ]
     },
     "execution_count": 31,
     "metadata": {},
     "output_type": "execute_result"
    }
   ],
   "source": [
    "best_model.predict([[4,2,1,0,2,3,1,2,4,3]])"
   ]
  },
  {
   "cell_type": "code",
   "execution_count": 32,
   "id": "55756826",
   "metadata": {},
   "outputs": [
    {
     "name": "stderr",
     "output_type": "stream",
     "text": [
      "C:\\Users\\User\\Desktop\\prediction\\model\\env\\lib\\site-packages\\sklearn\\base.py:450: UserWarning: X does not have valid feature names, but RandomForestRegressor was fitted with feature names\n",
      "  warnings.warn(\n"
     ]
    },
    {
     "data": {
      "text/plain": [
       "array([31.64])"
      ]
     },
     "execution_count": 32,
     "metadata": {},
     "output_type": "execute_result"
    }
   ],
   "source": [
    "best_model.predict([[4,4,3,4,3,4,3,4,3,4]])"
   ]
  },
  {
   "cell_type": "code",
   "execution_count": null,
   "id": "05bf77a4",
   "metadata": {},
   "outputs": [],
   "source": []
  }
 ],
 "metadata": {
  "kernelspec": {
   "display_name": "Python 3 (ipykernel)",
   "language": "python",
   "name": "python3"
  },
  "language_info": {
   "codemirror_mode": {
    "name": "ipython",
    "version": 3
   },
   "file_extension": ".py",
   "mimetype": "text/x-python",
   "name": "python",
   "nbconvert_exporter": "python",
   "pygments_lexer": "ipython3",
   "version": "3.9.6"
  }
 },
 "nbformat": 4,
 "nbformat_minor": 5
}
